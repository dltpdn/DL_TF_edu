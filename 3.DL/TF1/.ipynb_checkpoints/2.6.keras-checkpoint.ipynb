{
 "cells": [
  {
   "attachments": {
    "image.png": {
     "image/png": "[encoded data removed]"
    }
   },
   "cell_type": "markdown",
   "metadata": {},
   "source": [
    "## 2.6 Keras\n",
    "![image.png](attachment:image.png)"
   ]
  },
  {
   "attachments": {},
   "cell_type": "markdown",
   "metadata": {},
   "source": [
    "### Keras\n",
    "\n",
    "* High-Level Neural Networks API\n",
    "* 간결한 문법\n",
    "* 지원하는 백엔드(Back-end) 엔진\n",
    "    * Tensorflow\n",
    "    * CNTK\n",
    "    * Theano (최초 Theano 겨냥해서 시작)\n",
    "* 백엔드 종속성 제거\n",
    "* Tensorflow의 공식 High-level API로 선정\n",
    "* 가장 인기 있는 인공지능 라이브러리\n",
    "![image.png]https://i.imgur.com/APiGGgd.png\n",
    "![image.png](https://i.imgur.com/rlDMvPH.png)\n"
   ]
  },
  {
   "cell_type": "markdown",
   "metadata": {},
   "source": [
    "## Linear Regression 예시"
   ]
  },
  {
   "cell_type": "code",
   "execution_count": 1,
   "metadata": {},
   "outputs": [
    {
     "name": "stderr",
     "output_type": "stream",
     "text": [
      "Using TensorFlow backend.\n"
     ]
    },
    {
     "name": "stdout",
     "output_type": "stream",
     "text": [
      "WARNING:tensorflow:From /Users/rainer/Dropbox/work/ml_dl/lib/python3.6/site-packages/tensorflow/python/framework/op_def_library.py:263: colocate_with (from tensorflow.python.framework.ops) is deprecated and will be removed in a future version.\n",
      "Instructions for updating:\n",
      "Colocations handled automatically by placer.\n",
      "WARNING:tensorflow:From /Users/rainer/Dropbox/work/ml_dl/lib/python3.6/site-packages/tensorflow/python/ops/math_ops.py:3066: to_int32 (from tensorflow.python.ops.math_ops) is deprecated and will be removed in a future version.\n",
      "Instructions for updating:\n",
      "Use tf.cast instead.\n",
      "X: 5,  Y: 20 ,Y': [[19.890234]]\n",
      "X: 12.5, Y: 35.0 ,Y': [[35.53816]]\n"
     ]
    }
   ],
   "source": [
    "import keras\n",
    "import numpy as np\n",
    "\n",
    "x = np.arange(10)\n",
    "y = x * 2 + 10\n",
    "\n",
    "model = keras.models.Sequential()\n",
    "model.add(keras.layers.Dense(1, input_shape=(1,)))\n",
    "model.compile('SGD', 'mse')\n",
    "\n",
    "model.fit(x, y, epochs=500, verbose=0)\n",
    "\n",
    "print(\"X: 5,  Y:\", 5*2+10, \",Y':\",  model.predict([5]))\n",
    "print(\"X: 12.5, Y:\", 12.5*2+10, \",Y':\",  model.predict([12.5]))\n",
    "\n"
   ]
  },
  {
   "cell_type": "code",
   "execution_count": null,
   "metadata": {},
   "outputs": [],
   "source": []
  }
 ],
 "metadata": {
  "kernelspec": {
   "display_name": "Python 3",
   "language": "python",
   "name": "python3"
  },
  "language_info": {
   "codemirror_mode": {
    "name": "ipython",
    "version": 3
   },
   "file_extension": ".py",
   "mimetype": "text/x-python",
   "name": "python",
   "nbconvert_exporter": "python",
   "pygments_lexer": "ipython3",
   "version": "3.6.8"
  }
 },
 "nbformat": 4,
 "nbformat_minor": 2
}
